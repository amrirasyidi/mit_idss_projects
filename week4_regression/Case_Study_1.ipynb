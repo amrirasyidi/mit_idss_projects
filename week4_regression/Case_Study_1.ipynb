{
 "cells": [
  {
   "cell_type": "markdown",
   "metadata": {
    "id": "MXsWghmo-05N"
   },
   "source": [
    "# **PREDICTING WAGES**\n",
    "\n",
    "In this segment, we will examine a real-world example, where we will predict wages of the workers using a linear combination of workers characteristics and assess the predictive performance of our prediction rules using the Mean Squared Error (MSE), adjusted MSE and r-squared as well as out-of-sample MSE and r-squared.\n",
    "\n",
    "The data comes from the March supplement of the U.S. Current Population Survey, the year 2012. It focuses on the single (never married) workers with education levels equal to high school, some college, or college graduates. The sample size is approx 4,000.\n",
    "\n",
    "The outcome variable Y is an hourly wage, and the X’s are various characteristics of workers such as gender, experience, education, and geographical indicators.\n",
    "\n",
    "## **Dataset** \n",
    "\n",
    "The dataset contains the following variables:\n",
    "1. wage   : weekly wage\n",
    "2. female : female dummy\n",
    "3. cg     : college Graduate Dummy\n",
    "4. sc     : some college dummy\n",
    "5. hsg    : High School graduate dummy\n",
    "6. mw     : mid-west dummy\n",
    "7. so     : south dummy\n",
    "8. we     : west dummy\n",
    "9. ne     : northeast dummy\n",
    "10. exp1   : experience(year)\n",
    "11. exp2   : experience squared (taken as experience squared/100)\n",
    "12. exp3   : experience cubed (taken as experience cubed/1000)"
   ]
  },
  {
   "cell_type": "markdown",
   "metadata": {
    "id": "0gwyOZf5-05R"
   },
   "source": [
    "## **Importing the necessary libraries and overview of the dataset**"
   ]
  },
  {
   "cell_type": "code",
   "execution_count": 1,
   "metadata": {
    "id": "1r2t3VWN-05R"
   },
   "outputs": [],
   "source": [
    "#importing necessary libraries\n",
    "import numpy as np\n",
    "import pandas as pd\n",
    "import matplotlib.pyplot as plt\n",
    "import seaborn as sns\n",
    "#to ignore warnings\n",
    "import warnings\n",
    "warnings.filterwarnings('ignore')"
   ]
  },
  {
   "cell_type": "markdown",
   "metadata": {
    "id": "oc4xcv4BNn72"
   },
   "source": [
    "### **Loading the data**"
   ]
  },
  {
   "cell_type": "code",
   "execution_count": 2,
   "metadata": {
    "id": "PB_wh0Ts-05S"
   },
   "outputs": [],
   "source": [
    "# Load data\n",
    "df = pd.read_csv('predicting_wages.csv')"
   ]
  },
  {
   "cell_type": "code",
   "execution_count": 3,
   "metadata": {
    "id": "N6VGwlvC-05T",
    "outputId": "5fcc8c3c-33df-4944-a00f-7e30959e93ba"
   },
   "outputs": [
    {
     "data": {
      "text/html": [
       "<div>\n",
       "<style scoped>\n",
       "    .dataframe tbody tr th:only-of-type {\n",
       "        vertical-align: middle;\n",
       "    }\n",
       "\n",
       "    .dataframe tbody tr th {\n",
       "        vertical-align: top;\n",
       "    }\n",
       "\n",
       "    .dataframe thead th {\n",
       "        text-align: right;\n",
       "    }\n",
       "</style>\n",
       "<table border=\"1\" class=\"dataframe\">\n",
       "  <thead>\n",
       "    <tr style=\"text-align: right;\">\n",
       "      <th></th>\n",
       "      <th>female</th>\n",
       "      <th>cg</th>\n",
       "      <th>sc</th>\n",
       "      <th>hsg</th>\n",
       "      <th>mw</th>\n",
       "      <th>so</th>\n",
       "      <th>we</th>\n",
       "      <th>ne</th>\n",
       "      <th>exp1</th>\n",
       "      <th>exp2</th>\n",
       "      <th>exp3</th>\n",
       "      <th>wage</th>\n",
       "    </tr>\n",
       "  </thead>\n",
       "  <tbody>\n",
       "    <tr>\n",
       "      <th>0</th>\n",
       "      <td>0</td>\n",
       "      <td>0</td>\n",
       "      <td>0</td>\n",
       "      <td>1</td>\n",
       "      <td>0</td>\n",
       "      <td>0</td>\n",
       "      <td>0</td>\n",
       "      <td>1</td>\n",
       "      <td>33.0</td>\n",
       "      <td>10.89</td>\n",
       "      <td>35.937</td>\n",
       "      <td>11.659091</td>\n",
       "    </tr>\n",
       "    <tr>\n",
       "      <th>1</th>\n",
       "      <td>0</td>\n",
       "      <td>1</td>\n",
       "      <td>0</td>\n",
       "      <td>0</td>\n",
       "      <td>0</td>\n",
       "      <td>0</td>\n",
       "      <td>0</td>\n",
       "      <td>1</td>\n",
       "      <td>27.0</td>\n",
       "      <td>7.29</td>\n",
       "      <td>19.683</td>\n",
       "      <td>12.825000</td>\n",
       "    </tr>\n",
       "    <tr>\n",
       "      <th>2</th>\n",
       "      <td>0</td>\n",
       "      <td>0</td>\n",
       "      <td>1</td>\n",
       "      <td>0</td>\n",
       "      <td>0</td>\n",
       "      <td>0</td>\n",
       "      <td>0</td>\n",
       "      <td>1</td>\n",
       "      <td>13.0</td>\n",
       "      <td>1.69</td>\n",
       "      <td>2.197</td>\n",
       "      <td>5.777027</td>\n",
       "    </tr>\n",
       "    <tr>\n",
       "      <th>3</th>\n",
       "      <td>0</td>\n",
       "      <td>1</td>\n",
       "      <td>0</td>\n",
       "      <td>0</td>\n",
       "      <td>0</td>\n",
       "      <td>0</td>\n",
       "      <td>0</td>\n",
       "      <td>1</td>\n",
       "      <td>2.0</td>\n",
       "      <td>0.04</td>\n",
       "      <td>0.008</td>\n",
       "      <td>12.468750</td>\n",
       "    </tr>\n",
       "    <tr>\n",
       "      <th>4</th>\n",
       "      <td>1</td>\n",
       "      <td>1</td>\n",
       "      <td>0</td>\n",
       "      <td>0</td>\n",
       "      <td>0</td>\n",
       "      <td>0</td>\n",
       "      <td>0</td>\n",
       "      <td>1</td>\n",
       "      <td>15.0</td>\n",
       "      <td>2.25</td>\n",
       "      <td>3.375</td>\n",
       "      <td>18.525000</td>\n",
       "    </tr>\n",
       "  </tbody>\n",
       "</table>\n",
       "</div>"
      ],
      "text/plain": [
       "   female  cg  sc  hsg  mw  so  we  ne  exp1   exp2    exp3       wage\n",
       "0       0   0   0    1   0   0   0   1  33.0  10.89  35.937  11.659091\n",
       "1       0   1   0    0   0   0   0   1  27.0   7.29  19.683  12.825000\n",
       "2       0   0   1    0   0   0   0   1  13.0   1.69   2.197   5.777027\n",
       "3       0   1   0    0   0   0   0   1   2.0   0.04   0.008  12.468750\n",
       "4       1   1   0    0   0   0   0   1  15.0   2.25   3.375  18.525000"
      ]
     },
     "execution_count": 3,
     "metadata": {},
     "output_type": "execute_result"
    }
   ],
   "source": [
    "# See top 5 row in the dataset\n",
    "df.head()"
   ]
  },
  {
   "cell_type": "markdown",
   "metadata": {
    "id": "4kB3ilKR-05U"
   },
   "source": [
    "### **Checking the info of the data**"
   ]
  },
  {
   "cell_type": "code",
   "execution_count": 4,
   "metadata": {
    "id": "R_E7kk8T-05U",
    "outputId": "46e0076f-1966-4f7e-c963-f9c0b9acaf07",
    "scrolled": true
   },
   "outputs": [
    {
     "name": "stdout",
     "output_type": "stream",
     "text": [
      "<class 'pandas.core.frame.DataFrame'>\n",
      "RangeIndex: 3835 entries, 0 to 3834\n",
      "Data columns (total 12 columns):\n",
      " #   Column  Non-Null Count  Dtype  \n",
      "---  ------  --------------  -----  \n",
      " 0   female  3835 non-null   int64  \n",
      " 1   cg      3835 non-null   int64  \n",
      " 2   sc      3835 non-null   int64  \n",
      " 3   hsg     3835 non-null   int64  \n",
      " 4   mw      3835 non-null   int64  \n",
      " 5   so      3835 non-null   int64  \n",
      " 6   we      3835 non-null   int64  \n",
      " 7   ne      3835 non-null   int64  \n",
      " 8   exp1    3835 non-null   float64\n",
      " 9   exp2    3835 non-null   float64\n",
      " 10  exp3    3835 non-null   float64\n",
      " 11  wage    3835 non-null   float64\n",
      "dtypes: float64(4), int64(8)\n",
      "memory usage: 359.7 KB\n"
     ]
    }
   ],
   "source": [
    "# Checking info of the dataset\n",
    "df.info()"
   ]
  },
  {
   "cell_type": "markdown",
   "metadata": {
    "id": "aOEj9yGf-05V"
   },
   "source": [
    "**Observations:**\n",
    "- The dataset has 3835 observations and 12 different variables.\n",
    "- There is no missing value in the dataset. \n",
    "- All of the dummy variables (cg, sc, hsg, etc.) have the datatype as int. They are binary variables having values of 0 and 1."
   ]
  },
  {
   "cell_type": "markdown",
   "metadata": {
    "id": "1lPhbWGH-05V"
   },
   "source": [
    "## **Univariate Analysis**"
   ]
  },
  {
   "cell_type": "markdown",
   "metadata": {
    "id": "9fRSa1ts-05W"
   },
   "source": [
    "### **Checking the summary statistics of the dataset**"
   ]
  },
  {
   "cell_type": "code",
   "execution_count": 5,
   "metadata": {
    "id": "RN5revik-05W",
    "outputId": "bf621f80-b3fa-4e36-c485-799009f49c8e"
   },
   "outputs": [
    {
     "data": {
      "text/html": [
       "<div>\n",
       "<style scoped>\n",
       "    .dataframe tbody tr th:only-of-type {\n",
       "        vertical-align: middle;\n",
       "    }\n",
       "\n",
       "    .dataframe tbody tr th {\n",
       "        vertical-align: top;\n",
       "    }\n",
       "\n",
       "    .dataframe thead th {\n",
       "        text-align: right;\n",
       "    }\n",
       "</style>\n",
       "<table border=\"1\" class=\"dataframe\">\n",
       "  <thead>\n",
       "    <tr style=\"text-align: right;\">\n",
       "      <th></th>\n",
       "      <th>count</th>\n",
       "      <th>mean</th>\n",
       "      <th>std</th>\n",
       "      <th>min</th>\n",
       "      <th>25%</th>\n",
       "      <th>50%</th>\n",
       "      <th>75%</th>\n",
       "      <th>max</th>\n",
       "    </tr>\n",
       "  </thead>\n",
       "  <tbody>\n",
       "    <tr>\n",
       "      <th>female</th>\n",
       "      <td>3835.0</td>\n",
       "      <td>0.417992</td>\n",
       "      <td>0.493293</td>\n",
       "      <td>0.000000</td>\n",
       "      <td>0.00000</td>\n",
       "      <td>0.000000</td>\n",
       "      <td>1.000000</td>\n",
       "      <td>1.000000</td>\n",
       "    </tr>\n",
       "    <tr>\n",
       "      <th>cg</th>\n",
       "      <td>3835.0</td>\n",
       "      <td>0.376271</td>\n",
       "      <td>0.484513</td>\n",
       "      <td>0.000000</td>\n",
       "      <td>0.00000</td>\n",
       "      <td>0.000000</td>\n",
       "      <td>1.000000</td>\n",
       "      <td>1.000000</td>\n",
       "    </tr>\n",
       "    <tr>\n",
       "      <th>sc</th>\n",
       "      <td>3835.0</td>\n",
       "      <td>0.323859</td>\n",
       "      <td>0.468008</td>\n",
       "      <td>0.000000</td>\n",
       "      <td>0.00000</td>\n",
       "      <td>0.000000</td>\n",
       "      <td>1.000000</td>\n",
       "      <td>1.000000</td>\n",
       "    </tr>\n",
       "    <tr>\n",
       "      <th>hsg</th>\n",
       "      <td>3835.0</td>\n",
       "      <td>0.299870</td>\n",
       "      <td>0.458260</td>\n",
       "      <td>0.000000</td>\n",
       "      <td>0.00000</td>\n",
       "      <td>0.000000</td>\n",
       "      <td>1.000000</td>\n",
       "      <td>1.000000</td>\n",
       "    </tr>\n",
       "    <tr>\n",
       "      <th>mw</th>\n",
       "      <td>3835.0</td>\n",
       "      <td>0.287614</td>\n",
       "      <td>0.452709</td>\n",
       "      <td>0.000000</td>\n",
       "      <td>0.00000</td>\n",
       "      <td>0.000000</td>\n",
       "      <td>1.000000</td>\n",
       "      <td>1.000000</td>\n",
       "    </tr>\n",
       "    <tr>\n",
       "      <th>so</th>\n",
       "      <td>3835.0</td>\n",
       "      <td>0.243546</td>\n",
       "      <td>0.429278</td>\n",
       "      <td>0.000000</td>\n",
       "      <td>0.00000</td>\n",
       "      <td>0.000000</td>\n",
       "      <td>0.000000</td>\n",
       "      <td>1.000000</td>\n",
       "    </tr>\n",
       "    <tr>\n",
       "      <th>we</th>\n",
       "      <td>3835.0</td>\n",
       "      <td>0.211734</td>\n",
       "      <td>0.408591</td>\n",
       "      <td>0.000000</td>\n",
       "      <td>0.00000</td>\n",
       "      <td>0.000000</td>\n",
       "      <td>0.000000</td>\n",
       "      <td>1.000000</td>\n",
       "    </tr>\n",
       "    <tr>\n",
       "      <th>ne</th>\n",
       "      <td>3835.0</td>\n",
       "      <td>0.257106</td>\n",
       "      <td>0.437095</td>\n",
       "      <td>0.000000</td>\n",
       "      <td>0.00000</td>\n",
       "      <td>0.000000</td>\n",
       "      <td>1.000000</td>\n",
       "      <td>1.000000</td>\n",
       "    </tr>\n",
       "    <tr>\n",
       "      <th>exp1</th>\n",
       "      <td>3835.0</td>\n",
       "      <td>13.353194</td>\n",
       "      <td>8.639348</td>\n",
       "      <td>2.000000</td>\n",
       "      <td>6.00000</td>\n",
       "      <td>11.000000</td>\n",
       "      <td>19.500000</td>\n",
       "      <td>35.000000</td>\n",
       "    </tr>\n",
       "    <tr>\n",
       "      <th>exp2</th>\n",
       "      <td>3835.0</td>\n",
       "      <td>2.529267</td>\n",
       "      <td>2.910554</td>\n",
       "      <td>0.040000</td>\n",
       "      <td>0.36000</td>\n",
       "      <td>1.210000</td>\n",
       "      <td>3.802500</td>\n",
       "      <td>12.250000</td>\n",
       "    </tr>\n",
       "    <tr>\n",
       "      <th>exp3</th>\n",
       "      <td>3835.0</td>\n",
       "      <td>5.812103</td>\n",
       "      <td>9.033207</td>\n",
       "      <td>0.008000</td>\n",
       "      <td>0.21600</td>\n",
       "      <td>1.331000</td>\n",
       "      <td>7.414875</td>\n",
       "      <td>42.875000</td>\n",
       "    </tr>\n",
       "    <tr>\n",
       "      <th>wage</th>\n",
       "      <td>3835.0</td>\n",
       "      <td>15.533356</td>\n",
       "      <td>13.518165</td>\n",
       "      <td>0.004275</td>\n",
       "      <td>9.61875</td>\n",
       "      <td>13.028571</td>\n",
       "      <td>17.812500</td>\n",
       "      <td>348.333017</td>\n",
       "    </tr>\n",
       "  </tbody>\n",
       "</table>\n",
       "</div>"
      ],
      "text/plain": [
       "         count       mean        std       min      25%        50%        75%  \\\n",
       "female  3835.0   0.417992   0.493293  0.000000  0.00000   0.000000   1.000000   \n",
       "cg      3835.0   0.376271   0.484513  0.000000  0.00000   0.000000   1.000000   \n",
       "sc      3835.0   0.323859   0.468008  0.000000  0.00000   0.000000   1.000000   \n",
       "hsg     3835.0   0.299870   0.458260  0.000000  0.00000   0.000000   1.000000   \n",
       "mw      3835.0   0.287614   0.452709  0.000000  0.00000   0.000000   1.000000   \n",
       "so      3835.0   0.243546   0.429278  0.000000  0.00000   0.000000   0.000000   \n",
       "we      3835.0   0.211734   0.408591  0.000000  0.00000   0.000000   0.000000   \n",
       "ne      3835.0   0.257106   0.437095  0.000000  0.00000   0.000000   1.000000   \n",
       "exp1    3835.0  13.353194   8.639348  2.000000  6.00000  11.000000  19.500000   \n",
       "exp2    3835.0   2.529267   2.910554  0.040000  0.36000   1.210000   3.802500   \n",
       "exp3    3835.0   5.812103   9.033207  0.008000  0.21600   1.331000   7.414875   \n",
       "wage    3835.0  15.533356  13.518165  0.004275  9.61875  13.028571  17.812500   \n",
       "\n",
       "               max  \n",
       "female    1.000000  \n",
       "cg        1.000000  \n",
       "sc        1.000000  \n",
       "hsg       1.000000  \n",
       "mw        1.000000  \n",
       "so        1.000000  \n",
       "we        1.000000  \n",
       "ne        1.000000  \n",
       "exp1     35.000000  \n",
       "exp2     12.250000  \n",
       "exp3     42.875000  \n",
       "wage    348.333017  "
      ]
     },
     "execution_count": 5,
     "metadata": {},
     "output_type": "execute_result"
    }
   ],
   "source": [
    "# Printing the summary statistics for the dataset\n",
    "df.describe().T"
   ]
  },
  {
   "cell_type": "markdown",
   "metadata": {
    "id": "3kmY83BL-05W"
   },
   "source": [
    "**Observations:**\n",
    "- The average wage is about 15 dollars per hour while the maximum wage is 348, which is very high.\n",
    "- 42% of workers are women.\n",
    "- The average experience is 13 years, with the minimum and maximum being 2 and 35 years, respectively, indicating that the data is diversified and drawn from various experience groups.\n",
    "- 38% of the people in the data are college graduates. \n",
    "- 32% have gone to some college, and 30% hold only high school diploma.\n",
    "- You can also see geographical distribution of workers across major geographical regions of the states, and seem to be nearly same between 22-28%, which again shows maybe data is collected from different regions in a uniform manner. "
   ]
  },
  {
   "cell_type": "code",
   "execution_count": 6,
   "metadata": {
    "id": "-agwgztC-05X",
    "outputId": "b9a2033e-39d4-4e8b-846b-b94502c9e65b"
   },
   "outputs": [
    {
     "data": {
      "image/png": "[encoded data removed]",
      "text/plain": [
       "<Figure size 1440x720 with 1 Axes>"
      ]
     },
     "metadata": {
      "needs_background": "light"
     },
     "output_type": "display_data"
    }
   ],
   "source": [
    "df[['exp1','exp2','exp3','wage']].boxplot(figsize=(20,10))\n",
    "plt.show()"
   ]
  },
  {
   "cell_type": "markdown",
   "metadata": {
    "id": "eJ8dhDQC-05X"
   },
   "source": [
    "- For the wage variable, we can see that there are outliers, which makes sense because some people have higher earnings than others."
   ]
  },
  {
   "cell_type": "markdown",
   "metadata": {
    "id": "Ro3p8HpL-05X"
   },
   "source": [
    "## **Bivariate Analysis**"
   ]
  },
  {
   "cell_type": "markdown",
   "metadata": {
    "id": "YB3UV-zB-05Y"
   },
   "source": [
    "### **Let's first look the relationship between the experience and Wages**"
   ]
  },
  {
   "cell_type": "code",
   "execution_count": 7,
   "metadata": {
    "id": "aGh5Ukz3-05Y",
    "outputId": "6af3fddc-4627-417d-bec7-05ecc5beadeb"
   },
   "outputs": [
    {
     "data": {
      "text/plain": [
       "<AxesSubplot:xlabel='exp1', ylabel='wage'>"
      ]
     },
     "execution_count": 7,
     "metadata": {},
     "output_type": "execute_result"
    },
    {
     "data": {
      "image/png": "[encoded data removed]",
      "text/plain": [
       "<Figure size 432x288 with 1 Axes>"
      ]
     },
     "metadata": {
      "needs_background": "light"
     },
     "output_type": "display_data"
    }
   ],
   "source": [
    "sns.scatterplot('exp1','wage',data=df)"
   ]
  },
  {
   "cell_type": "markdown",
   "metadata": {
    "id": "bXtSVYty-05Y"
   },
   "source": [
    "- As we can see, there is no significant relationship between experience and wage. So the general assumptions about people with high experience may have high income is not true here."
   ]
  },
  {
   "cell_type": "markdown",
   "metadata": {
    "id": "_Wflglc1-05Y"
   },
   "source": [
    "### **Now make a list of dummy columns and check there relationship with wage**"
   ]
  },
  {
   "cell_type": "code",
   "execution_count": 8,
   "metadata": {
    "id": "TKu-qTAI-05Y",
    "outputId": "262571ce-455b-4ddc-836b-3ac15f95d12b"
   },
   "outputs": [
    {
     "data": {
      "text/plain": [
       "['female', 'cg', 'sc', 'hsg', 'mw', 'so', 'we', 'ne']"
      ]
     },
     "execution_count": 8,
     "metadata": {},
     "output_type": "execute_result"
    }
   ],
   "source": [
    "cols=df.select_dtypes('int').columns.to_list()\n",
    "cols"
   ]
  },
  {
   "cell_type": "code",
   "execution_count": 9,
   "metadata": {
    "id": "gh6WKfVg-05Z",
    "outputId": "b146a107-8459-4380-d407-00e8d85e6c0c"
   },
   "outputs": [
    {
     "data": {
      "text/plain": [
       "<AxesSubplot:xlabel='wage', ylabel='Density'>"
      ]
     },
     "execution_count": 9,
     "metadata": {},
     "output_type": "execute_result"
    },
    {
     "data": {
      "image/png": "[encoded data removed]",
      "text/plain": [
       "<Figure size 432x288 with 1 Axes>"
      ]
     },
     "metadata": {
      "needs_background": "light"
     },
     "output_type": "display_data"
    }
   ],
   "source": [
    "sns.kdeplot(df.wage,hue=df.female)"
   ]
  },
  {
   "cell_type": "code",
   "execution_count": 10,
   "metadata": {
    "id": "4eYioJoR-05Z",
    "outputId": "82097b3a-a3ab-43b8-af32-774fb9ef9881",
    "scrolled": false
   },
   "outputs": [
    {
     "data": {
      "image/png": "[encoded data removed]",
      "text/plain": [
       "<Figure size 432x288 with 1 Axes>"
      ]
     },
     "metadata": {
      "needs_background": "light"
     },
     "output_type": "display_data"
    },
    {
     "data": {
      "image/png": "[encoded data removed]",
      "text/plain": [
       "<Figure size 432x288 with 1 Axes>"
      ]
     },
     "metadata": {
      "needs_background": "light"
     },
     "output_type": "display_data"
    },
    {
     "data": {
      "image/png": "[encoded data removed]",
      "text/plain": [
       "<Figure size 432x288 with 1 Axes>"
      ]
     },
     "metadata": {
      "needs_background": "light"
     },
     "output_type": "display_data"
    },
    {
     "data": {
      "image/png": "[encoded data removed]",
      "text/plain": [
       "<Figure size 432x288 with 1 Axes>"
      ]
     },
     "metadata": {
      "needs_background": "light"
     },
     "output_type": "display_data"
    },
    {
     "data": {
      "image/png": "[encoded data removed]",
      "text/plain": [
       "<Figure size 432x288 with 1 Axes>"
      ]
     },
     "metadata": {
      "needs_background": "light"
     },
     "output_type": "display_data"
    },
    {
     "data": {
      "image/png": "[encoded data removed]",
      "text/plain": [
       "<Figure size 432x288 with 1 Axes>"
      ]
     },
     "metadata": {
      "needs_background": "light"
     },
     "output_type": "display_data"
    },
    {
     "data": {
      "image/png": "[encoded data removed]",
      "text/plain": [
       "<Figure size 432x288 with 1 Axes>"
      ]
     },
     "metadata": {
      "needs_background": "light"
     },
     "output_type": "display_data"
    },
    {
     "data": {
      "image/png": "[encoded data removed]",
      "text/plain": [
       "<Figure size 432x288 with 1 Axes>"
      ]
     },
     "metadata": {
      "needs_background": "light"
     },
     "output_type": "display_data"
    }
   ],
   "source": [
    "for i in cols:\n",
    "    sns.kdeplot(df.wage,hue=df[i])\n",
    "    plt.show()"
   ]
  },
  {
   "cell_type": "markdown",
   "metadata": {
    "id": "s_e9shKW-05Z"
   },
   "source": [
    "- There is not a major difference that can be seen from these plots as the distribution of wages for female, education level, geographical regions for both (orange, blue) are same in each graph.  "
   ]
  },
  {
   "cell_type": "markdown",
   "metadata": {
    "id": "gBVXb0fq-05a"
   },
   "source": [
    "### **As now we have done our analysis, lets move to Modeling.**\n"
   ]
  },
  {
   "cell_type": "markdown",
   "metadata": {
    "id": "7IBMTjTf-05a"
   },
   "source": [
    "### **Basic Model**\n",
    "- X consists of the female indicator (D) and other controls W , which contain a constant, experience, experience squared, experience cubed, education indicators, and regional indicators.\n",
    "- X includes p = 9 regressors."
   ]
  },
  {
   "cell_type": "code",
   "execution_count": 11,
   "metadata": {
    "id": "a-mfKSuV-05a",
    "outputId": "05ea6717-1d07-408e-a37c-12d0e3c1361d"
   },
   "outputs": [
    {
     "name": "stdout",
     "output_type": "stream",
     "text": [
      "Intercept 4.915401521241428\n"
     ]
    }
   ],
   "source": [
    "####################  Linear and Quadratic specifications ##############################\n",
    "\n",
    "# Wage linear regression\n",
    "from sklearn.linear_model import LinearRegression\n",
    "from sklearn import metrics\n",
    "\n",
    "Y = df['wage'] # target variable\n",
    "X = df[['female' , 'sc', 'cg', 'mw' , 'so' , 'we' , 'exp1' , 'exp2' , 'exp3']] #regressors\n",
    "\n",
    "#defining the model\n",
    "model = LinearRegression()\n",
    "# fit the Linear regression to the regressors and target varibale.\n",
    "results = model.fit(X,Y) # train the model\n",
    "\n",
    "print(\"Intercept\",results.intercept_) # beta_0"
   ]
  },
  {
   "cell_type": "code",
   "execution_count": 12,
   "metadata": {
    "id": "UHlbuNxn-05b",
    "outputId": "b0ea99f0-d36a-4c39-aa3e-be2fe900691b",
    "scrolled": true
   },
   "outputs": [
    {
     "data": {
      "text/html": [
       "<div>\n",
       "<style scoped>\n",
       "    .dataframe tbody tr th:only-of-type {\n",
       "        vertical-align: middle;\n",
       "    }\n",
       "\n",
       "    .dataframe tbody tr th {\n",
       "        vertical-align: top;\n",
       "    }\n",
       "\n",
       "    .dataframe thead th {\n",
       "        text-align: right;\n",
       "    }\n",
       "</style>\n",
       "<table border=\"1\" class=\"dataframe\">\n",
       "  <thead>\n",
       "    <tr style=\"text-align: right;\">\n",
       "      <th></th>\n",
       "      <th>female</th>\n",
       "      <th>sc</th>\n",
       "      <th>cg</th>\n",
       "      <th>mw</th>\n",
       "      <th>so</th>\n",
       "      <th>we</th>\n",
       "      <th>exp1</th>\n",
       "      <th>exp2</th>\n",
       "      <th>exp3</th>\n",
       "    </tr>\n",
       "  </thead>\n",
       "  <tbody>\n",
       "    <tr>\n",
       "      <th>0</th>\n",
       "      <td>-1.826397</td>\n",
       "      <td>2.486523</td>\n",
       "      <td>9.870806</td>\n",
       "      <td>-1.214237</td>\n",
       "      <td>0.404601</td>\n",
       "      <td>-0.250799</td>\n",
       "      <td>1.096456</td>\n",
       "      <td>-4.013388</td>\n",
       "      <td>0.460337</td>\n",
       "    </tr>\n",
       "  </tbody>\n",
       "</table>\n",
       "</div>"
      ],
      "text/plain": [
       "     female        sc        cg        mw        so        we      exp1  \\\n",
       "0 -1.826397  2.486523  9.870806 -1.214237  0.404601 -0.250799  1.096456   \n",
       "\n",
       "       exp2      exp3  \n",
       "0 -4.013388  0.460337  "
      ]
     },
     "execution_count": 12,
     "metadata": {},
     "output_type": "execute_result"
    }
   ],
   "source": [
    "#coefficients of other regressors\n",
    "pd.DataFrame(results.coef_.reshape(1,-1),columns=X.columns) "
   ]
  },
  {
   "cell_type": "markdown",
   "metadata": {
    "id": "yUjTK8sP-05b"
   },
   "source": [
    "**Observations:**\n",
    "- We can see that cg graduates have a high coefficient which signifies that graduated people are getting high wages.\n",
    "- Exp2 on the other hand has a negative coefficient, which means that with exp2 wages are lower.\n",
    "- Coefficient of the female indicator is negative, which signifies that females are getting lower wages. "
   ]
  },
  {
   "cell_type": "code",
   "execution_count": 13,
   "metadata": {
    "id": "a_w8Zdgw-05b",
    "outputId": "34665f2b-1cdd-41d1-84fd-d02da2ab00fa"
   },
   "outputs": [
    {
     "name": "stdout",
     "output_type": "stream",
     "text": [
      "R-squared 0.0954880031243256\n",
      "MSE adj: 165.6801552431276\n"
     ]
    }
   ],
   "source": [
    "# compute MSE and R^2\n",
    "y_pred = results.predict(X) # predictions on same data\n",
    "print(\"R-squared\",metrics.r2_score(Y,y_pred)) # r-squared\n",
    "MSE_adj2 =  (3835/(3835-10)) * np.mean(np.square(Y-y_pred))\n",
    "print(\"MSE adj:\",MSE_adj2) #MSE"
   ]
  },
  {
   "cell_type": "markdown",
   "metadata": {
    "id": "7OSV0NQl-05b"
   },
   "source": [
    "- Model performance is very poor as the r squared is very low. "
   ]
  },
  {
   "cell_type": "code",
   "execution_count": 14,
   "metadata": {
    "id": "9MU4ob7X-05b",
    "outputId": "9b554b64-9f89-4c21-d820-11a89e56c187"
   },
   "outputs": [
    {
     "name": "stdout",
     "output_type": "stream",
     "text": [
      "Adj Rsquared: 0.09335973647058826\n"
     ]
    }
   ],
   "source": [
    "adj_rsquared = 1 - ((1-0.095488)*(3835-1)/(3835-9-1))\n",
    "print(\"Adj Rsquared:\",adj_rsquared)# adjusted r-squared"
   ]
  },
  {
   "cell_type": "markdown",
   "metadata": {
    "id": "6HnajYyR-05b"
   },
   "source": [
    "### **Flexible model**\n",
    "- X consists of D as well as W , which contains all of the components of W in the basic model plus their two-way interactions.\n",
    "\n",
    "- Two way interaction means, two variables are multiples to each other so that we can capture the combined effect of the interaction of the 2 variables in the model. \n",
    "\n",
    "- After creating interaction features, X includes p = 37 regressors."
   ]
  },
  {
   "cell_type": "code",
   "execution_count": 15,
   "metadata": {
    "id": "ZNNVfYRJ-05b",
    "outputId": "7cacc37b-fd3e-4aa2-fe7c-f310042473e9"
   },
   "outputs": [
    {
     "name": "stdout",
     "output_type": "stream",
     "text": [
      "Intercept 16.552407194298638\n"
     ]
    }
   ],
   "source": [
    "# Linear regression: Quadratic specification\n",
    "\n",
    "from sklearn.preprocessing import PolynomialFeatures\n",
    "\n",
    "X.drop('female',axis = 1,inplace = True)\n",
    "poly = PolynomialFeatures(interaction_only=True,include_bias=False)\n",
    "X_poly = poly.fit_transform(X) # creating polynomial features with degree = 2(Quadratic)\n",
    "\n",
    "X_poly = pd.DataFrame(X_poly,columns= poly.get_feature_names(X.columns))\n",
    "\n",
    "X_poly['female'] = df['female']\n",
    "X['female'] = df['female']\n",
    "\n",
    "# train the model\n",
    "results = model.fit(X_poly,Y) \n",
    "\n",
    "# beta_0\n",
    "print(\"Intercept\",results.intercept_) "
   ]
  },
  {
   "cell_type": "code",
   "execution_count": 16,
   "metadata": {
    "id": "T0Y2kh2D-05c",
    "outputId": "1279691a-55e6-4e09-94e1-f7cc93aaffee",
    "scrolled": false
   },
   "outputs": [
    {
     "data": {
      "text/html": [
       "<div>\n",
       "<style scoped>\n",
       "    .dataframe tbody tr th:only-of-type {\n",
       "        vertical-align: middle;\n",
       "    }\n",
       "\n",
       "    .dataframe tbody tr th {\n",
       "        vertical-align: top;\n",
       "    }\n",
       "\n",
       "    .dataframe thead th {\n",
       "        text-align: right;\n",
       "    }\n",
       "</style>\n",
       "<table border=\"1\" class=\"dataframe\">\n",
       "  <thead>\n",
       "    <tr style=\"text-align: right;\">\n",
       "      <th></th>\n",
       "      <th>0</th>\n",
       "    </tr>\n",
       "  </thead>\n",
       "  <tbody>\n",
       "    <tr>\n",
       "      <th>sc</th>\n",
       "      <td>-2.386526e+00</td>\n",
       "    </tr>\n",
       "    <tr>\n",
       "      <th>cg</th>\n",
       "      <td>2.240488e+00</td>\n",
       "    </tr>\n",
       "    <tr>\n",
       "      <th>mw</th>\n",
       "      <td>-5.519395e+00</td>\n",
       "    </tr>\n",
       "    <tr>\n",
       "      <th>so</th>\n",
       "      <td>-2.914391e+00</td>\n",
       "    </tr>\n",
       "    <tr>\n",
       "      <th>we</th>\n",
       "      <td>-8.053925e-01</td>\n",
       "    </tr>\n",
       "    <tr>\n",
       "      <th>exp1</th>\n",
       "      <td>-1.321456e+00</td>\n",
       "    </tr>\n",
       "    <tr>\n",
       "      <th>exp2</th>\n",
       "      <td>1.252185e+01</td>\n",
       "    </tr>\n",
       "    <tr>\n",
       "      <th>exp3</th>\n",
       "      <td>-4.838676e-02</td>\n",
       "    </tr>\n",
       "    <tr>\n",
       "      <th>sc cg</th>\n",
       "      <td>1.388889e-13</td>\n",
       "    </tr>\n",
       "    <tr>\n",
       "      <th>sc mw</th>\n",
       "      <td>-7.225602e-01</td>\n",
       "    </tr>\n",
       "    <tr>\n",
       "      <th>sc so</th>\n",
       "      <td>-6.512599e-01</td>\n",
       "    </tr>\n",
       "    <tr>\n",
       "      <th>sc we</th>\n",
       "      <td>-1.046514e-01</td>\n",
       "    </tr>\n",
       "    <tr>\n",
       "      <th>sc exp1</th>\n",
       "      <td>8.390751e-01</td>\n",
       "    </tr>\n",
       "    <tr>\n",
       "      <th>sc exp2</th>\n",
       "      <td>-4.060847e+00</td>\n",
       "    </tr>\n",
       "    <tr>\n",
       "      <th>sc exp3</th>\n",
       "      <td>6.330261e-01</td>\n",
       "    </tr>\n",
       "    <tr>\n",
       "      <th>cg mw</th>\n",
       "      <td>-7.609079e-01</td>\n",
       "    </tr>\n",
       "    <tr>\n",
       "      <th>cg so</th>\n",
       "      <td>1.704052e+00</td>\n",
       "    </tr>\n",
       "    <tr>\n",
       "      <th>cg we</th>\n",
       "      <td>-1.494761e+00</td>\n",
       "    </tr>\n",
       "    <tr>\n",
       "      <th>cg exp1</th>\n",
       "      <td>7.858795e-01</td>\n",
       "    </tr>\n",
       "    <tr>\n",
       "      <th>cg exp2</th>\n",
       "      <td>-4.897043e-02</td>\n",
       "    </tr>\n",
       "    <tr>\n",
       "      <th>cg exp3</th>\n",
       "      <td>-5.950344e-01</td>\n",
       "    </tr>\n",
       "    <tr>\n",
       "      <th>mw so</th>\n",
       "      <td>2.664535e-15</td>\n",
       "    </tr>\n",
       "    <tr>\n",
       "      <th>mw we</th>\n",
       "      <td>5.773160e-15</td>\n",
       "    </tr>\n",
       "    <tr>\n",
       "      <th>mw exp1</th>\n",
       "      <td>1.107607e+00</td>\n",
       "    </tr>\n",
       "    <tr>\n",
       "      <th>mw exp2</th>\n",
       "      <td>-6.052683e+00</td>\n",
       "    </tr>\n",
       "    <tr>\n",
       "      <th>mw exp3</th>\n",
       "      <td>9.062626e-01</td>\n",
       "    </tr>\n",
       "    <tr>\n",
       "      <th>so we</th>\n",
       "      <td>-4.440892e-15</td>\n",
       "    </tr>\n",
       "    <tr>\n",
       "      <th>so exp1</th>\n",
       "      <td>3.947042e-01</td>\n",
       "    </tr>\n",
       "    <tr>\n",
       "      <th>so exp2</th>\n",
       "      <td>-8.913739e-01</td>\n",
       "    </tr>\n",
       "    <tr>\n",
       "      <th>so exp3</th>\n",
       "      <td>-3.515656e-02</td>\n",
       "    </tr>\n",
       "    <tr>\n",
       "      <th>we exp1</th>\n",
       "      <td>4.719171e-01</td>\n",
       "    </tr>\n",
       "    <tr>\n",
       "      <th>we exp2</th>\n",
       "      <td>-3.918829e+00</td>\n",
       "    </tr>\n",
       "    <tr>\n",
       "      <th>we exp3</th>\n",
       "      <td>8.050007e-01</td>\n",
       "    </tr>\n",
       "    <tr>\n",
       "      <th>exp1 exp2</th>\n",
       "      <td>-4.838676e-01</td>\n",
       "    </tr>\n",
       "    <tr>\n",
       "      <th>exp1 exp3</th>\n",
       "      <td>8.720600e-02</td>\n",
       "    </tr>\n",
       "    <tr>\n",
       "      <th>exp2 exp3</th>\n",
       "      <td>-5.798236e-02</td>\n",
       "    </tr>\n",
       "    <tr>\n",
       "      <th>female</th>\n",
       "      <td>-1.880013e+00</td>\n",
       "    </tr>\n",
       "  </tbody>\n",
       "</table>\n",
       "</div>"
      ],
      "text/plain": [
       "                      0\n",
       "sc        -2.386526e+00\n",
       "cg         2.240488e+00\n",
       "mw        -5.519395e+00\n",
       "so        -2.914391e+00\n",
       "we        -8.053925e-01\n",
       "exp1      -1.321456e+00\n",
       "exp2       1.252185e+01\n",
       "exp3      -4.838676e-02\n",
       "sc cg      1.388889e-13\n",
       "sc mw     -7.225602e-01\n",
       "sc so     -6.512599e-01\n",
       "sc we     -1.046514e-01\n",
       "sc exp1    8.390751e-01\n",
       "sc exp2   -4.060847e+00\n",
       "sc exp3    6.330261e-01\n",
       "cg mw     -7.609079e-01\n",
       "cg so      1.704052e+00\n",
       "cg we     -1.494761e+00\n",
       "cg exp1    7.858795e-01\n",
       "cg exp2   -4.897043e-02\n",
       "cg exp3   -5.950344e-01\n",
       "mw so      2.664535e-15\n",
       "mw we      5.773160e-15\n",
       "mw exp1    1.107607e+00\n",
       "mw exp2   -6.052683e+00\n",
       "mw exp3    9.062626e-01\n",
       "so we     -4.440892e-15\n",
       "so exp1    3.947042e-01\n",
       "so exp2   -8.913739e-01\n",
       "so exp3   -3.515656e-02\n",
       "we exp1    4.719171e-01\n",
       "we exp2   -3.918829e+00\n",
       "we exp3    8.050007e-01\n",
       "exp1 exp2 -4.838676e-01\n",
       "exp1 exp3  8.720600e-02\n",
       "exp2 exp3 -5.798236e-02\n",
       "female    -1.880013e+00"
      ]
     },
     "execution_count": 16,
     "metadata": {},
     "output_type": "execute_result"
    }
   ],
   "source": [
    "pd.DataFrame(results.coef_.reshape(1,-1),columns=X_poly.columns).T# printing the co-efficients in a tabular format"
   ]
  },
  {
   "cell_type": "markdown",
   "metadata": {
    "id": "p8rAWDUs-05c"
   },
   "source": [
    "**Observations:**\n",
    "- Coefficient of cg*exp is quite high, represents Experience variable times the indicator of having a college degree will have a high wage,or people with good education and good experience are paid good.\n",
    "- Cofficient of cg*mw is negative, implies College graduate from mid west are not getting paid good, which is not a good sign as for the people living in mid west as from the basic model we know that the college graduates are getting paid good.\n",
    "- Coefficient of sc*cg, so*we, mw*we, mw*so, is almost 0 and doesn't not make any contribution to the model. "
   ]
  },
  {
   "cell_type": "code",
   "execution_count": 17,
   "metadata": {
    "id": "VhfGXuL0-05c",
    "outputId": "d8e00fbc-cbc6-4405-e087-a7e446d0273e"
   },
   "outputs": [
    {
     "name": "stdout",
     "output_type": "stream",
     "text": [
      "R-squared 0.10397282164398391\n",
      "MSE adj: 165.11885608922344\n"
     ]
    }
   ],
   "source": [
    "# compute MSE and R^2\n",
    "y_pred = results.predict(X_poly)\n",
    "print(\"R-squared\",metrics.r2_score(Y,y_pred))\n",
    "MSE_adj2 =  (3835/(3835-33)) * np.mean(np.square(Y-y_pred))\n",
    "print(\"MSE adj:\",MSE_adj2) #MSE"
   ]
  },
  {
   "cell_type": "markdown",
   "metadata": {
    "id": "9fHP_Jl4-05c"
   },
   "source": [
    "- Model performance has improved slightly as compared to basic model but r- squared still very less.\n",
    "- The total regressors is taken as 33, as Coefficient of cgsc, sowe,mwwe,mwso, is almost 0 and doesn't not make any contribution to the model. "
   ]
  },
  {
   "cell_type": "code",
   "execution_count": 18,
   "metadata": {
    "id": "sfHpiDM5-05c",
    "outputId": "47c5027b-43a2-42a3-f296-1ed0984472f6"
   },
   "outputs": [
    {
     "data": {
      "text/plain": [
       "0.09619073401736389"
      ]
     },
     "execution_count": 18,
     "metadata": {},
     "output_type": "execute_result"
    }
   ],
   "source": [
    "adj_rsquared = 1 - ((1-0.10397)*(3835-1)/(3835-33-1))\n",
    "adj_rsquared"
   ]
  },
  {
   "cell_type": "markdown",
   "metadata": {
    "id": "3Tqrpz0g-05d"
   },
   "source": [
    "- We considered two predictive models, basic and flexible.\n",
    "- In the basic model, regressors X consist of the female indicator D and other controls W , which include a constant, experience, experience squared, experience cubed, education and regional indicators. The basic model has 9 regressors in total."
   ]
  },
  {
   "cell_type": "markdown",
   "metadata": {
    "id": "mFdffAy1-05d"
   },
   "source": [
    "Given that p/n is quite small here, the sample linear regression should approximate the population linear regression quite well."
   ]
  },
  {
   "cell_type": "markdown",
   "metadata": {
    "id": "Z_LgQKzJ-05d"
   },
   "source": [
    "|| p | R-squared_sample | R-squared_adj | MSE_adj |\n",
    "| --- | --- | --- | --- | --- |\n",
    "| basic reg | 9 | 0.0954 | 0.093 | 165.680 |\n",
    "| flexi reg | 33 | 0.1039 | 0.096 | 165.118 |\n",
    "\n",
    "We conclude that the performance of the basic and flexible model are about the same, with the flexible model being just slightly better (slightly higher R2 lower MSE)."
   ]
  },
  {
   "cell_type": "markdown",
   "metadata": {
    "id": "8e5fJeu6-05d"
   },
   "source": [
    "### **Basic Model on splitted data**"
   ]
  },
  {
   "cell_type": "code",
   "execution_count": 19,
   "metadata": {
    "id": "0egEtMD3-05d",
    "outputId": "783cdb54-6364-4df5-fa4c-a8233bf2aa10"
   },
   "outputs": [
    {
     "name": "stdout",
     "output_type": "stream",
     "text": [
      "Intercept 4.1846159141737935\n"
     ]
    }
   ],
   "source": [
    "####################  Linear and Quadratic specifications with Sample Splitting ##############################\n",
    "\n",
    "from sklearn.model_selection import train_test_split #using this we split the data into train and test in python.\n",
    "\n",
    "\n",
    "#Split without the function train_test_split\n",
    "X_train = X.iloc[:1918,:]\n",
    "X_test = X.iloc[1918:,:]\n",
    "Y_train = Y.iloc[:1918]\n",
    "Y_test = Y.iloc[1918:]\n",
    "\n",
    "\n",
    "#Split using the function train_test_split\n",
    "# X_train,X_test,Y_train,Y_test = train_test_split(X,Y,test_size=0.5,random_state=101) # splitting data into train and test\n",
    "\n",
    "\n",
    "results = model.fit(X_train,Y_train)\n",
    "print(\"Intercept\",results.intercept_)"
   ]
  },
  {
   "cell_type": "code",
   "execution_count": 20,
   "metadata": {
    "id": "GuRpKknn-05d",
    "outputId": "51334fc4-8997-46ab-9a58-31ca8bc4202d",
    "scrolled": true
   },
   "outputs": [
    {
     "data": {
      "text/html": [
       "<div>\n",
       "<style scoped>\n",
       "    .dataframe tbody tr th:only-of-type {\n",
       "        vertical-align: middle;\n",
       "    }\n",
       "\n",
       "    .dataframe tbody tr th {\n",
       "        vertical-align: top;\n",
       "    }\n",
       "\n",
       "    .dataframe thead th {\n",
       "        text-align: right;\n",
       "    }\n",
       "</style>\n",
       "<table border=\"1\" class=\"dataframe\">\n",
       "  <thead>\n",
       "    <tr style=\"text-align: right;\">\n",
       "      <th></th>\n",
       "      <th>sc</th>\n",
       "      <th>cg</th>\n",
       "      <th>mw</th>\n",
       "      <th>so</th>\n",
       "      <th>we</th>\n",
       "      <th>exp1</th>\n",
       "      <th>exp2</th>\n",
       "      <th>exp3</th>\n",
       "      <th>female</th>\n",
       "    </tr>\n",
       "  </thead>\n",
       "  <tbody>\n",
       "    <tr>\n",
       "      <th>0</th>\n",
       "      <td>2.38791</td>\n",
       "      <td>10.007581</td>\n",
       "      <td>-0.939453</td>\n",
       "      <td>3.552714e-15</td>\n",
       "      <td>8.881784e-16</td>\n",
       "      <td>1.241326</td>\n",
       "      <td>-4.767478</td>\n",
       "      <td>0.566172</td>\n",
       "      <td>-1.654739</td>\n",
       "    </tr>\n",
       "  </tbody>\n",
       "</table>\n",
       "</div>"
      ],
      "text/plain": [
       "        sc         cg        mw            so            we      exp1  \\\n",
       "0  2.38791  10.007581 -0.939453  3.552714e-15  8.881784e-16  1.241326   \n",
       "\n",
       "       exp2      exp3    female  \n",
       "0 -4.767478  0.566172 -1.654739  "
      ]
     },
     "execution_count": 20,
     "metadata": {},
     "output_type": "execute_result"
    }
   ],
   "source": [
    "pd.DataFrame(results.coef_.reshape(1,-1),columns=X.columns)"
   ]
  },
  {
   "cell_type": "code",
   "execution_count": 21,
   "metadata": {
    "id": "VgFJmApH-05d",
    "outputId": "646674c3-4951-479c-ff63-af53641c7e1b"
   },
   "outputs": [
    {
     "name": "stdout",
     "output_type": "stream",
     "text": [
      "R-squared 0.10272836637029847\n",
      "MSE 154.5836929050885\n"
     ]
    }
   ],
   "source": [
    "y_pred = results.predict(X_test) # predit y values on test data\n",
    "print(\"R-squared\",metrics.r2_score(Y_test,y_pred)) # r-squared\n",
    "print(\"MSE\",metrics.mean_squared_error(Y_test,y_pred))# MSE"
   ]
  },
  {
   "cell_type": "markdown",
   "metadata": {
    "id": "Hig7oEYn-05d"
   },
   "source": [
    "### **Flexible model on splitted data**"
   ]
  },
  {
   "cell_type": "code",
   "execution_count": 22,
   "metadata": {
    "id": "XxUBK_Sd-05d",
    "outputId": "1f40a4a6-627e-4a49-a9e4-aace5479ffb2"
   },
   "outputs": [
    {
     "name": "stdout",
     "output_type": "stream",
     "text": [
      "Intercept 12.364122069223091\n"
     ]
    }
   ],
   "source": [
    "# Linear regression: Quadratic specification\n",
    "X_train = X_poly.iloc[:1918,:]\n",
    "X_test = X_poly.iloc[1918:,:]\n",
    "Y_train = Y.iloc[:1918]\n",
    "Y_test = Y.iloc[1918:]\n",
    "# X_train,X_test,Y_train,Y_test = train_test_split(X_poly,Y,test_size=0.5,random_state=101)\n",
    "results = model.fit(X_train,Y_train)\n",
    "print(\"Intercept\",results.intercept_)"
   ]
  },
  {
   "cell_type": "code",
   "execution_count": 23,
   "metadata": {
    "id": "Qn1qNjvz-05e",
    "outputId": "8c8ffdf2-3bb9-48f3-d7b6-73defb5096d0",
    "scrolled": false
   },
   "outputs": [
    {
     "data": {
      "text/html": [
       "<div>\n",
       "<style scoped>\n",
       "    .dataframe tbody tr th:only-of-type {\n",
       "        vertical-align: middle;\n",
       "    }\n",
       "\n",
       "    .dataframe tbody tr th {\n",
       "        vertical-align: top;\n",
       "    }\n",
       "\n",
       "    .dataframe thead th {\n",
       "        text-align: right;\n",
       "    }\n",
       "</style>\n",
       "<table border=\"1\" class=\"dataframe\">\n",
       "  <thead>\n",
       "    <tr style=\"text-align: right;\">\n",
       "      <th></th>\n",
       "      <th>sc</th>\n",
       "      <th>cg</th>\n",
       "      <th>mw</th>\n",
       "      <th>so</th>\n",
       "      <th>we</th>\n",
       "      <th>exp1</th>\n",
       "      <th>exp2</th>\n",
       "      <th>exp3</th>\n",
       "      <th>sc cg</th>\n",
       "      <th>sc mw</th>\n",
       "      <th>...</th>\n",
       "      <th>so exp1</th>\n",
       "      <th>so exp2</th>\n",
       "      <th>so exp3</th>\n",
       "      <th>we exp1</th>\n",
       "      <th>we exp2</th>\n",
       "      <th>we exp3</th>\n",
       "      <th>exp1 exp2</th>\n",
       "      <th>exp1 exp3</th>\n",
       "      <th>exp2 exp3</th>\n",
       "      <th>female</th>\n",
       "    </tr>\n",
       "  </thead>\n",
       "  <tbody>\n",
       "    <tr>\n",
       "      <th>0</th>\n",
       "      <td>2.333983</td>\n",
       "      <td>6.482857</td>\n",
       "      <td>-6.643465</td>\n",
       "      <td>2.236655e-12</td>\n",
       "      <td>-7.736034e-12</td>\n",
       "      <td>-0.913686</td>\n",
       "      <td>16.083399</td>\n",
       "      <td>-0.104036</td>\n",
       "      <td>8.202328e-13</td>\n",
       "      <td>-0.99051</td>\n",
       "      <td>...</td>\n",
       "      <td>0.0</td>\n",
       "      <td>0.0</td>\n",
       "      <td>0.0</td>\n",
       "      <td>0.0</td>\n",
       "      <td>0.0</td>\n",
       "      <td>0.0</td>\n",
       "      <td>-1.040364</td>\n",
       "      <td>0.314212</td>\n",
       "      <td>-0.351953</td>\n",
       "      <td>-1.751726</td>\n",
       "    </tr>\n",
       "  </tbody>\n",
       "</table>\n",
       "<p>1 rows × 37 columns</p>\n",
       "</div>"
      ],
      "text/plain": [
       "         sc        cg        mw            so            we      exp1  \\\n",
       "0  2.333983  6.482857 -6.643465  2.236655e-12 -7.736034e-12 -0.913686   \n",
       "\n",
       "        exp2      exp3         sc cg    sc mw  ...  so exp1  so exp2  so exp3  \\\n",
       "0  16.083399 -0.104036  8.202328e-13 -0.99051  ...      0.0      0.0      0.0   \n",
       "\n",
       "   we exp1  we exp2  we exp3  exp1 exp2  exp1 exp3  exp2 exp3    female  \n",
       "0      0.0      0.0      0.0  -1.040364   0.314212  -0.351953 -1.751726  \n",
       "\n",
       "[1 rows x 37 columns]"
      ]
     },
     "execution_count": 23,
     "metadata": {},
     "output_type": "execute_result"
    }
   ],
   "source": [
    "pd.DataFrame(results.coef_.reshape(1,-1),columns=X_poly.columns)"
   ]
  },
  {
   "cell_type": "code",
   "execution_count": 24,
   "metadata": {
    "id": "dPs_v3DW-05e",
    "outputId": "cb263201-cf2f-4ac0-9073-e7a9078c7c2a"
   },
   "outputs": [
    {
     "name": "stdout",
     "output_type": "stream",
     "text": [
      "R-squared 0.10460461287646916\n",
      "MSE 154.26044952721546\n"
     ]
    }
   ],
   "source": [
    "y_pred = results.predict(X_test)\n",
    "print(\"R-squared\",metrics.r2_score(Y_test,y_pred))\n",
    "print(\"MSE\",metrics.mean_squared_error(Y_test,y_pred))"
   ]
  },
  {
   "cell_type": "markdown",
   "metadata": {
    "id": "AEHTVTQ9-05e"
   },
   "source": [
    "### **Conclusion and recommendations:**\n",
    "\n",
    "|| p | R-squared_test | MSE_test |\n",
    "| --- | --- | --- | --- |\n",
    "| basic reg | 9 | 0.1027 | 154.584 |\n",
    "| flexi reg | 33 | 0.1046 | 154.260 |\n",
    "\n",
    "- Here we report results for one random split of the data in 2 halves, and see that the flexible rule works just slightly better, and also note that these numbers vary across different data splits, so we can average results over several data splits.\n",
    "- College graduates and the people with good work experience are getting good wages as compared to people with low education background and low work experience.\n",
    "- People living in the south and mid west region are not getting proper wages."
   ]
  }
 ],
 "metadata": {
  "colab": {
   "collapsed_sections": [],
   "name": "Case Study 1.ipynb",
   "provenance": []
  },
  "kernelspec": {
   "display_name": "Python 3 (ipykernel)",
   "language": "python",
   "name": "python3"
  },
  "language_info": {
   "codemirror_mode": {
    "name": "ipython",
    "version": 3
   },
   "file_extension": ".py",
   "mimetype": "text/x-python",
   "name": "python",
   "nbconvert_exporter": "python",
   "pygments_lexer": "ipython3",
   "version": "3.9.7"
  }
 },
 "nbformat": 4,
 "nbformat_minor": 1
}
